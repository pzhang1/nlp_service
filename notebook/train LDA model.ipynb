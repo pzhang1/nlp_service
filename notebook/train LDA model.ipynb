{
 "cells": [
  {
   "cell_type": "code",
   "execution_count": 1,
   "metadata": {},
   "outputs": [],
   "source": [
    "import pandas as pd\n",
    "import nltk\n",
    "import gensim\n",
    "from gensim.corpora import Dictionary\n",
    "from gensim.models import LdaModel\n",
    "from nltk.tokenize import word_tokenize, sent_tokenize\n",
    "from nltk.corpus import stopwords\n",
    "from nltk.stem import WordNetLemmatizer"
   ]
  },
  {
   "cell_type": "code",
   "execution_count": 2,
   "metadata": {},
   "outputs": [],
   "source": [
    "## read data\n",
    "\n",
    "df = pd.read_csv(\"~/Documents/all_filings_and_sections.csv\")"
   ]
  },
  {
   "cell_type": "code",
   "execution_count": 3,
   "metadata": {},
   "outputs": [
    {
     "data": {
      "text/html": [
       "<div>\n",
       "<style scoped>\n",
       "    .dataframe tbody tr th:only-of-type {\n",
       "        vertical-align: middle;\n",
       "    }\n",
       "\n",
       "    .dataframe tbody tr th {\n",
       "        vertical-align: top;\n",
       "    }\n",
       "\n",
       "    .dataframe thead th {\n",
       "        text-align: right;\n",
       "    }\n",
       "</style>\n",
       "<table border=\"1\" class=\"dataframe\">\n",
       "  <thead>\n",
       "    <tr style=\"text-align: right;\">\n",
       "      <th></th>\n",
       "      <th>Unnamed: 0</th>\n",
       "      <th>ticker</th>\n",
       "      <th>companyName</th>\n",
       "      <th>formType</th>\n",
       "      <th>description</th>\n",
       "      <th>filedAt</th>\n",
       "      <th>linkToFilingDetails</th>\n",
       "      <th>Section1</th>\n",
       "      <th>Section1A</th>\n",
       "      <th>Section7</th>\n",
       "    </tr>\n",
       "  </thead>\n",
       "  <tbody>\n",
       "    <tr>\n",
       "      <th>0</th>\n",
       "      <td>0</td>\n",
       "      <td>AIZ</td>\n",
       "      <td>ASSURANT, INC.</td>\n",
       "      <td>10-K</td>\n",
       "      <td>Form 10-K - Annual report [Section 13 and 15(d...</td>\n",
       "      <td>2023-02-17T16:12:13-05:00</td>\n",
       "      <td>https://www.sec.gov/Archives/edgar/data/126723...</td>\n",
       "      <td>Item 1. Business \\n\\nAssurant, Inc. was incor...</td>\n",
       "      <td>Item 1A. Risk Factors \\n\\nCertain factors may...</td>\n",
       "      <td>Item 7. Management&amp;#8217;s Discussion and Ana...</td>\n",
       "    </tr>\n",
       "    <tr>\n",
       "      <th>1</th>\n",
       "      <td>1</td>\n",
       "      <td>AIZ</td>\n",
       "      <td>ASSURANT, INC.</td>\n",
       "      <td>10-K</td>\n",
       "      <td>Form 10-K - Annual report [Section 13 and 15(d...</td>\n",
       "      <td>2022-02-22T16:24:39-05:00</td>\n",
       "      <td>https://www.sec.gov/Archives/edgar/data/126723...</td>\n",
       "      <td>Item 1. Business \\n\\nAssurant, Inc. was incor...</td>\n",
       "      <td>Item 1A. Risk Factors \\n\\nCertain factors may...</td>\n",
       "      <td>Item 7. Management&amp;#8217;s Discussion and Ana...</td>\n",
       "    </tr>\n",
       "    <tr>\n",
       "      <th>2</th>\n",
       "      <td>2</td>\n",
       "      <td>AIZ</td>\n",
       "      <td>ASSURANT, INC.</td>\n",
       "      <td>10-K</td>\n",
       "      <td>Form 10-K - Annual report [Section 13 and 15(d...</td>\n",
       "      <td>2021-02-19T16:44:57-05:00</td>\n",
       "      <td>https://www.sec.gov/Archives/edgar/data/126723...</td>\n",
       "      <td>Item 1. Business \\n\\nAssurant, Inc. was incor...</td>\n",
       "      <td>Item 1A. Risk Factors \\n\\nCertain factors may...</td>\n",
       "      <td>Item 7. Management&amp;#8217;s Discussion and Ana...</td>\n",
       "    </tr>\n",
       "    <tr>\n",
       "      <th>3</th>\n",
       "      <td>3</td>\n",
       "      <td>AIZ</td>\n",
       "      <td>ASSURANT, INC.</td>\n",
       "      <td>10-K</td>\n",
       "      <td>Form 10-K - Annual report [Section 13 and 15(d...</td>\n",
       "      <td>2020-02-19T17:13:43-05:00</td>\n",
       "      <td>https://www.sec.gov/ix?doc=/Archives/edgar/dat...</td>\n",
       "      <td>Item 1. Business \\n\\nAssurant, Inc. was incor...</td>\n",
       "      <td>Item 1A. Risk Factors \\n\\nCertain factors may...</td>\n",
       "      <td>Item 7. Management&amp;#8217;s Discussion and Ana...</td>\n",
       "    </tr>\n",
       "    <tr>\n",
       "      <th>4</th>\n",
       "      <td>4</td>\n",
       "      <td>AIZ</td>\n",
       "      <td>ASSURANT INC</td>\n",
       "      <td>10-K</td>\n",
       "      <td>Form 10-K - Annual report [Section 13 and 15(d...</td>\n",
       "      <td>2019-02-22T16:48:45-05:00</td>\n",
       "      <td>https://www.sec.gov/ix?doc=/Archives/edgar/dat...</td>\n",
       "      <td>Item 1. Business \\n\\nAssurant, Inc. was incor...</td>\n",
       "      <td>Item 1A. Risk Factors \\n\\nCertain factors may...</td>\n",
       "      <td>Item 7. Management&amp;#8217;s Discussion and Ana...</td>\n",
       "    </tr>\n",
       "  </tbody>\n",
       "</table>\n",
       "</div>"
      ],
      "text/plain": [
       "   Unnamed: 0 ticker     companyName formType  \\\n",
       "0           0    AIZ  ASSURANT, INC.     10-K   \n",
       "1           1    AIZ  ASSURANT, INC.     10-K   \n",
       "2           2    AIZ  ASSURANT, INC.     10-K   \n",
       "3           3    AIZ  ASSURANT, INC.     10-K   \n",
       "4           4    AIZ    ASSURANT INC     10-K   \n",
       "\n",
       "                                         description  \\\n",
       "0  Form 10-K - Annual report [Section 13 and 15(d...   \n",
       "1  Form 10-K - Annual report [Section 13 and 15(d...   \n",
       "2  Form 10-K - Annual report [Section 13 and 15(d...   \n",
       "3  Form 10-K - Annual report [Section 13 and 15(d...   \n",
       "4  Form 10-K - Annual report [Section 13 and 15(d...   \n",
       "\n",
       "                     filedAt  \\\n",
       "0  2023-02-17T16:12:13-05:00   \n",
       "1  2022-02-22T16:24:39-05:00   \n",
       "2  2021-02-19T16:44:57-05:00   \n",
       "3  2020-02-19T17:13:43-05:00   \n",
       "4  2019-02-22T16:48:45-05:00   \n",
       "\n",
       "                                 linkToFilingDetails  \\\n",
       "0  https://www.sec.gov/Archives/edgar/data/126723...   \n",
       "1  https://www.sec.gov/Archives/edgar/data/126723...   \n",
       "2  https://www.sec.gov/Archives/edgar/data/126723...   \n",
       "3  https://www.sec.gov/ix?doc=/Archives/edgar/dat...   \n",
       "4  https://www.sec.gov/ix?doc=/Archives/edgar/dat...   \n",
       "\n",
       "                                            Section1  \\\n",
       "0   Item 1. Business \\n\\nAssurant, Inc. was incor...   \n",
       "1   Item 1. Business \\n\\nAssurant, Inc. was incor...   \n",
       "2   Item 1. Business \\n\\nAssurant, Inc. was incor...   \n",
       "3   Item 1. Business \\n\\nAssurant, Inc. was incor...   \n",
       "4   Item 1. Business \\n\\nAssurant, Inc. was incor...   \n",
       "\n",
       "                                           Section1A  \\\n",
       "0   Item 1A. Risk Factors \\n\\nCertain factors may...   \n",
       "1   Item 1A. Risk Factors \\n\\nCertain factors may...   \n",
       "2   Item 1A. Risk Factors \\n\\nCertain factors may...   \n",
       "3   Item 1A. Risk Factors \\n\\nCertain factors may...   \n",
       "4   Item 1A. Risk Factors \\n\\nCertain factors may...   \n",
       "\n",
       "                                            Section7  \n",
       "0   Item 7. Management&#8217;s Discussion and Ana...  \n",
       "1   Item 7. Management&#8217;s Discussion and Ana...  \n",
       "2   Item 7. Management&#8217;s Discussion and Ana...  \n",
       "3   Item 7. Management&#8217;s Discussion and Ana...  \n",
       "4   Item 7. Management&#8217;s Discussion and Ana...  "
      ]
     },
     "execution_count": 3,
     "metadata": {},
     "output_type": "execute_result"
    }
   ],
   "source": [
    "\n",
    "df.head()\n"
   ]
  },
  {
   "cell_type": "code",
   "execution_count": 6,
   "metadata": {},
   "outputs": [
    {
     "data": {
      "text/plain": [
       "'https://www.sec.gov/Archives/edgar/data/920760/000162828023001606/len-20221130.htm'"
      ]
     },
     "execution_count": 6,
     "metadata": {},
     "output_type": "execute_result"
    }
   ],
   "source": [
    "df['linkToFilingDetails'][2000]"
   ]
  },
  {
   "cell_type": "markdown",
   "metadata": {},
   "source": [
    "### QUESTION 1: *What are the common topics mentioned in the SEC filings?"
   ]
  },
  {
   "cell_type": "code",
   "execution_count": null,
   "metadata": {},
   "outputs": [],
   "source": [
    "# sum(df.Section1.isna())\n",
    "df = df.dropna()"
   ]
  },
  {
   "cell_type": "code",
   "execution_count": 108,
   "metadata": {},
   "outputs": [
    {
     "name": "stderr",
     "output_type": "stream",
     "text": [
      "[nltk_data] Downloading package punkt to /home/pengfei/nltk_data...\n",
      "[nltk_data]   Package punkt is already up-to-date!\n",
      "[nltk_data] Downloading package stopwords to\n",
      "[nltk_data]     /home/pengfei/nltk_data...\n",
      "[nltk_data]   Package stopwords is already up-to-date!\n",
      "[nltk_data] Downloading package wordnet to /home/pengfei/nltk_data...\n",
      "[nltk_data]   Package wordnet is already up-to-date!\n"
     ]
    },
    {
     "data": {
      "text/plain": [
       "True"
      ]
     },
     "execution_count": 108,
     "metadata": {},
     "output_type": "execute_result"
    }
   ],
   "source": [
    "# Load the generated dataset (Replace with your dataset loading code if necessary)\n",
    "# data = pd.read_csv('sample_data.csv')\n",
    "data = df\n",
    "\n",
    "# Download NLTK data\n",
    "nltk.download('punkt')\n",
    "nltk.download('stopwords')\n",
    "nltk.download('wordnet')\n"
   ]
  },
  {
   "cell_type": "code",
   "execution_count": 103,
   "metadata": {},
   "outputs": [],
   "source": [
    "\n",
    "\n",
    "# df['Section1'] = df['Section1'].fillna('')"
   ]
  },
  {
   "cell_type": "code",
   "execution_count": 104,
   "metadata": {},
   "outputs": [
    {
     "data": {
      "text/plain": [
       "0"
      ]
     },
     "execution_count": 104,
     "metadata": {},
     "output_type": "execute_result"
    }
   ],
   "source": [
    "sum(df.Section1.isna())\n"
   ]
  },
  {
   "cell_type": "code",
   "execution_count": 6,
   "metadata": {},
   "outputs": [],
   "source": [
    "# Prepare stop words\n",
    "stop_words = set(stopwords.words('english'))\n",
    "lemmatizer = WordNetLemmatizer()\n",
    "\n",
    "def preprocess(text):\n",
    "    tokens = [word for sent in sent_tokenize(text) for word in word_tokenize(sent)]\n",
    "    tokens = [word.lower() for word in tokens if word.isalpha()]\n",
    "    tokens = [word for word in tokens if word not in stop_words]\n",
    "    tokens = [lemmatizer.lemmatize(word) for word in tokens]\n",
    "    return tokens"
   ]
  },
  {
   "cell_type": "code",
   "execution_count": 109,
   "metadata": {},
   "outputs": [],
   "source": [
    "data[\"Section1\"] = data[\"Section1\"].apply(lambda x: [x])\n",
    "data[\"Section1A\"] = data[\"Section1A\"].apply(lambda x: [x])\n",
    "data[\"Section7\"] = data[\"Section7\"].apply(lambda x: [x])"
   ]
  },
  {
   "cell_type": "code",
   "execution_count": 110,
   "metadata": {},
   "outputs": [
    {
     "data": {
      "text/html": [
       "<div>\n",
       "<style scoped>\n",
       "    .dataframe tbody tr th:only-of-type {\n",
       "        vertical-align: middle;\n",
       "    }\n",
       "\n",
       "    .dataframe tbody tr th {\n",
       "        vertical-align: top;\n",
       "    }\n",
       "\n",
       "    .dataframe thead th {\n",
       "        text-align: right;\n",
       "    }\n",
       "</style>\n",
       "<table border=\"1\" class=\"dataframe\">\n",
       "  <thead>\n",
       "    <tr style=\"text-align: right;\">\n",
       "      <th></th>\n",
       "      <th>Unnamed: 0</th>\n",
       "      <th>ticker</th>\n",
       "      <th>companyName</th>\n",
       "      <th>formType</th>\n",
       "      <th>description</th>\n",
       "      <th>filedAt</th>\n",
       "      <th>linkToFilingDetails</th>\n",
       "      <th>Section1</th>\n",
       "      <th>Section1A</th>\n",
       "      <th>Section7</th>\n",
       "    </tr>\n",
       "  </thead>\n",
       "  <tbody>\n",
       "    <tr>\n",
       "      <th>0</th>\n",
       "      <td>0</td>\n",
       "      <td>AIZ</td>\n",
       "      <td>ASSURANT, INC.</td>\n",
       "      <td>10-K</td>\n",
       "      <td>Form 10-K - Annual report [Section 13 and 15(d...</td>\n",
       "      <td>2023-02-17T16:12:13-05:00</td>\n",
       "      <td>https://www.sec.gov/Archives/edgar/data/126723...</td>\n",
       "      <td>[ Item 1. Business \\n\\nAssurant, Inc. was inco...</td>\n",
       "      <td>[ Item 1A. Risk Factors \\n\\nCertain factors ma...</td>\n",
       "      <td>[ Item 7. Management&amp;#8217;s Discussion and An...</td>\n",
       "    </tr>\n",
       "    <tr>\n",
       "      <th>1</th>\n",
       "      <td>1</td>\n",
       "      <td>AIZ</td>\n",
       "      <td>ASSURANT, INC.</td>\n",
       "      <td>10-K</td>\n",
       "      <td>Form 10-K - Annual report [Section 13 and 15(d...</td>\n",
       "      <td>2022-02-22T16:24:39-05:00</td>\n",
       "      <td>https://www.sec.gov/Archives/edgar/data/126723...</td>\n",
       "      <td>[ Item 1. Business \\n\\nAssurant, Inc. was inco...</td>\n",
       "      <td>[ Item 1A. Risk Factors \\n\\nCertain factors ma...</td>\n",
       "      <td>[ Item 7. Management&amp;#8217;s Discussion and An...</td>\n",
       "    </tr>\n",
       "    <tr>\n",
       "      <th>2</th>\n",
       "      <td>2</td>\n",
       "      <td>AIZ</td>\n",
       "      <td>ASSURANT, INC.</td>\n",
       "      <td>10-K</td>\n",
       "      <td>Form 10-K - Annual report [Section 13 and 15(d...</td>\n",
       "      <td>2021-02-19T16:44:57-05:00</td>\n",
       "      <td>https://www.sec.gov/Archives/edgar/data/126723...</td>\n",
       "      <td>[ Item 1. Business \\n\\nAssurant, Inc. was inco...</td>\n",
       "      <td>[ Item 1A. Risk Factors \\n\\nCertain factors ma...</td>\n",
       "      <td>[ Item 7. Management&amp;#8217;s Discussion and An...</td>\n",
       "    </tr>\n",
       "    <tr>\n",
       "      <th>3</th>\n",
       "      <td>3</td>\n",
       "      <td>AIZ</td>\n",
       "      <td>ASSURANT, INC.</td>\n",
       "      <td>10-K</td>\n",
       "      <td>Form 10-K - Annual report [Section 13 and 15(d...</td>\n",
       "      <td>2020-02-19T17:13:43-05:00</td>\n",
       "      <td>https://www.sec.gov/ix?doc=/Archives/edgar/dat...</td>\n",
       "      <td>[ Item 1. Business \\n\\nAssurant, Inc. was inco...</td>\n",
       "      <td>[ Item 1A. Risk Factors \\n\\nCertain factors ma...</td>\n",
       "      <td>[ Item 7. Management&amp;#8217;s Discussion and An...</td>\n",
       "    </tr>\n",
       "    <tr>\n",
       "      <th>4</th>\n",
       "      <td>4</td>\n",
       "      <td>AIZ</td>\n",
       "      <td>ASSURANT INC</td>\n",
       "      <td>10-K</td>\n",
       "      <td>Form 10-K - Annual report [Section 13 and 15(d...</td>\n",
       "      <td>2019-02-22T16:48:45-05:00</td>\n",
       "      <td>https://www.sec.gov/ix?doc=/Archives/edgar/dat...</td>\n",
       "      <td>[ Item 1. Business \\n\\nAssurant, Inc. was inco...</td>\n",
       "      <td>[ Item 1A. Risk Factors \\n\\nCertain factors ma...</td>\n",
       "      <td>[ Item 7. Management&amp;#8217;s Discussion and An...</td>\n",
       "    </tr>\n",
       "  </tbody>\n",
       "</table>\n",
       "</div>"
      ],
      "text/plain": [
       "   Unnamed: 0 ticker     companyName formType  \\\n",
       "0           0    AIZ  ASSURANT, INC.     10-K   \n",
       "1           1    AIZ  ASSURANT, INC.     10-K   \n",
       "2           2    AIZ  ASSURANT, INC.     10-K   \n",
       "3           3    AIZ  ASSURANT, INC.     10-K   \n",
       "4           4    AIZ    ASSURANT INC     10-K   \n",
       "\n",
       "                                         description  \\\n",
       "0  Form 10-K - Annual report [Section 13 and 15(d...   \n",
       "1  Form 10-K - Annual report [Section 13 and 15(d...   \n",
       "2  Form 10-K - Annual report [Section 13 and 15(d...   \n",
       "3  Form 10-K - Annual report [Section 13 and 15(d...   \n",
       "4  Form 10-K - Annual report [Section 13 and 15(d...   \n",
       "\n",
       "                     filedAt  \\\n",
       "0  2023-02-17T16:12:13-05:00   \n",
       "1  2022-02-22T16:24:39-05:00   \n",
       "2  2021-02-19T16:44:57-05:00   \n",
       "3  2020-02-19T17:13:43-05:00   \n",
       "4  2019-02-22T16:48:45-05:00   \n",
       "\n",
       "                                 linkToFilingDetails  \\\n",
       "0  https://www.sec.gov/Archives/edgar/data/126723...   \n",
       "1  https://www.sec.gov/Archives/edgar/data/126723...   \n",
       "2  https://www.sec.gov/Archives/edgar/data/126723...   \n",
       "3  https://www.sec.gov/ix?doc=/Archives/edgar/dat...   \n",
       "4  https://www.sec.gov/ix?doc=/Archives/edgar/dat...   \n",
       "\n",
       "                                            Section1  \\\n",
       "0  [ Item 1. Business \\n\\nAssurant, Inc. was inco...   \n",
       "1  [ Item 1. Business \\n\\nAssurant, Inc. was inco...   \n",
       "2  [ Item 1. Business \\n\\nAssurant, Inc. was inco...   \n",
       "3  [ Item 1. Business \\n\\nAssurant, Inc. was inco...   \n",
       "4  [ Item 1. Business \\n\\nAssurant, Inc. was inco...   \n",
       "\n",
       "                                           Section1A  \\\n",
       "0  [ Item 1A. Risk Factors \\n\\nCertain factors ma...   \n",
       "1  [ Item 1A. Risk Factors \\n\\nCertain factors ma...   \n",
       "2  [ Item 1A. Risk Factors \\n\\nCertain factors ma...   \n",
       "3  [ Item 1A. Risk Factors \\n\\nCertain factors ma...   \n",
       "4  [ Item 1A. Risk Factors \\n\\nCertain factors ma...   \n",
       "\n",
       "                                            Section7  \n",
       "0  [ Item 7. Management&#8217;s Discussion and An...  \n",
       "1  [ Item 7. Management&#8217;s Discussion and An...  \n",
       "2  [ Item 7. Management&#8217;s Discussion and An...  \n",
       "3  [ Item 7. Management&#8217;s Discussion and An...  \n",
       "4  [ Item 7. Management&#8217;s Discussion and An...  "
      ]
     },
     "execution_count": 110,
     "metadata": {},
     "output_type": "execute_result"
    }
   ],
   "source": [
    "data.head()"
   ]
  },
  {
   "cell_type": "code",
   "execution_count": 111,
   "metadata": {},
   "outputs": [],
   "source": [
    "# Prepare dataset for LDA analysis\n",
    "all_texts = data[\"Section1\"].tolist() + data[\"Section1A\"].tolist() + data[\"Section7\"].tolist()\n",
    "all_texts = [\" \".join(section) for section in all_texts]\n",
    "processed_texts = [preprocess(text) for text in all_texts]\n"
   ]
  },
  {
   "cell_type": "code",
   "execution_count": 112,
   "metadata": {},
   "outputs": [],
   "source": [
    "# Create Gensim dictionary, filter extremes, and convert to a bag-of-words corpus\n",
    "dictionary = Dictionary(processed_texts)\n",
    "dictionary.filter_extremes(no_below=10, no_above=0.5, keep_n=100000)\n",
    "corpus = [dictionary.doc2bow(text) for text in processed_texts]"
   ]
  },
  {
   "cell_type": "code",
   "execution_count": 113,
   "metadata": {},
   "outputs": [],
   "source": [
    "# Parameters for LDA\n",
    "num_topics = 5\n",
    "random_state = 100"
   ]
  },
  {
   "cell_type": "code",
   "execution_count": 114,
   "metadata": {},
   "outputs": [],
   "source": [
    "# Train LDA model\n",
    "lda = LdaModel(\n",
    "    corpus,\n",
    "    num_topics=num_topics,\n",
    "    id2word=dictionary,\n",
    "    random_state=random_state,\n",
    "    update_every=1,\n",
    "    passes=10,\n",
    "    alpha='auto',\n",
    "    per_word_topics=True\n",
    ")"
   ]
  },
  {
   "cell_type": "code",
   "execution_count": 115,
   "metadata": {},
   "outputs": [
    {
     "name": "stdout",
     "output_type": "stream",
     "text": [
      "(0, '0.011*\"loan\" + 0.010*\"client\" + 0.007*\"bank\" + 0.005*\"deposit\" + 0.005*\"reputation\"')\n",
      "(1, '0.015*\"store\" + 0.007*\"real\" + 0.007*\"estate\" + 0.007*\"home\" + 0.006*\"tenant\"')\n",
      "(2, '0.029*\"gas\" + 0.016*\"utility\" + 0.013*\"electric\" + 0.012*\"oil\" + 0.010*\"fuel\"')\n",
      "(3, '0.008*\"care\" + 0.007*\"patient\" + 0.006*\"patent\" + 0.006*\"clinical\" + 0.006*\"device\"')\n",
      "(4, '0.012*\"partially\" + 0.011*\"adjusted\" + 0.009*\"loan\" + 0.009*\"table\" + 0.008*\"intangible\"')\n"
     ]
    }
   ],
   "source": [
    "# Print topics\n",
    "topics = lda.print_topics(num_words=5)\n",
    "\n",
    "for topic in topics:\n",
    "    print(topic)"
   ]
  },
  {
   "cell_type": "code",
   "execution_count": 118,
   "metadata": {},
   "outputs": [
    {
     "name": "stdout",
     "output_type": "stream",
     "text": [
      "LDA model and dictionary have been trained and saved.\n"
     ]
    }
   ],
   "source": [
    "lda.save('lda_model.gensim')\n",
    "dictionary.save('dictionary.gensim')\n",
    "\n",
    "print(\"LDA model and dictionary have been trained and saved.\")"
   ]
  },
  {
   "cell_type": "markdown",
   "metadata": {},
   "source": [
    "### QUESTION 2: What are the emerging topics or financial themes over the last 5 years?"
   ]
  },
  {
   "cell_type": "code",
   "execution_count": 116,
   "metadata": {},
   "outputs": [],
   "source": [
    "# Add a \"year\" column for grouping\n",
    "\n",
    "data['filedAt'] = data['filedAt'].astype(str)\n",
    "data['year'] = data['filedAt'].apply(lambda x: x[:4]).astype(int)"
   ]
  },
  {
   "cell_type": "code",
   "execution_count": 117,
   "metadata": {},
   "outputs": [
    {
     "data": {
      "text/html": [
       "<div>\n",
       "<style scoped>\n",
       "    .dataframe tbody tr th:only-of-type {\n",
       "        vertical-align: middle;\n",
       "    }\n",
       "\n",
       "    .dataframe tbody tr th {\n",
       "        vertical-align: top;\n",
       "    }\n",
       "\n",
       "    .dataframe thead th {\n",
       "        text-align: right;\n",
       "    }\n",
       "</style>\n",
       "<table border=\"1\" class=\"dataframe\">\n",
       "  <thead>\n",
       "    <tr style=\"text-align: right;\">\n",
       "      <th></th>\n",
       "      <th>Unnamed: 0</th>\n",
       "      <th>ticker</th>\n",
       "      <th>companyName</th>\n",
       "      <th>formType</th>\n",
       "      <th>description</th>\n",
       "      <th>filedAt</th>\n",
       "      <th>linkToFilingDetails</th>\n",
       "      <th>Section1</th>\n",
       "      <th>Section1A</th>\n",
       "      <th>Section7</th>\n",
       "      <th>year</th>\n",
       "    </tr>\n",
       "  </thead>\n",
       "  <tbody>\n",
       "    <tr>\n",
       "      <th>0</th>\n",
       "      <td>0</td>\n",
       "      <td>AIZ</td>\n",
       "      <td>ASSURANT, INC.</td>\n",
       "      <td>10-K</td>\n",
       "      <td>Form 10-K - Annual report [Section 13 and 15(d...</td>\n",
       "      <td>2023-02-17T16:12:13-05:00</td>\n",
       "      <td>https://www.sec.gov/Archives/edgar/data/126723...</td>\n",
       "      <td>[ Item 1. Business \\n\\nAssurant, Inc. was inco...</td>\n",
       "      <td>[ Item 1A. Risk Factors \\n\\nCertain factors ma...</td>\n",
       "      <td>[ Item 7. Management&amp;#8217;s Discussion and An...</td>\n",
       "      <td>2023</td>\n",
       "    </tr>\n",
       "    <tr>\n",
       "      <th>1</th>\n",
       "      <td>1</td>\n",
       "      <td>AIZ</td>\n",
       "      <td>ASSURANT, INC.</td>\n",
       "      <td>10-K</td>\n",
       "      <td>Form 10-K - Annual report [Section 13 and 15(d...</td>\n",
       "      <td>2022-02-22T16:24:39-05:00</td>\n",
       "      <td>https://www.sec.gov/Archives/edgar/data/126723...</td>\n",
       "      <td>[ Item 1. Business \\n\\nAssurant, Inc. was inco...</td>\n",
       "      <td>[ Item 1A. Risk Factors \\n\\nCertain factors ma...</td>\n",
       "      <td>[ Item 7. Management&amp;#8217;s Discussion and An...</td>\n",
       "      <td>2022</td>\n",
       "    </tr>\n",
       "    <tr>\n",
       "      <th>2</th>\n",
       "      <td>2</td>\n",
       "      <td>AIZ</td>\n",
       "      <td>ASSURANT, INC.</td>\n",
       "      <td>10-K</td>\n",
       "      <td>Form 10-K - Annual report [Section 13 and 15(d...</td>\n",
       "      <td>2021-02-19T16:44:57-05:00</td>\n",
       "      <td>https://www.sec.gov/Archives/edgar/data/126723...</td>\n",
       "      <td>[ Item 1. Business \\n\\nAssurant, Inc. was inco...</td>\n",
       "      <td>[ Item 1A. Risk Factors \\n\\nCertain factors ma...</td>\n",
       "      <td>[ Item 7. Management&amp;#8217;s Discussion and An...</td>\n",
       "      <td>2021</td>\n",
       "    </tr>\n",
       "    <tr>\n",
       "      <th>3</th>\n",
       "      <td>3</td>\n",
       "      <td>AIZ</td>\n",
       "      <td>ASSURANT, INC.</td>\n",
       "      <td>10-K</td>\n",
       "      <td>Form 10-K - Annual report [Section 13 and 15(d...</td>\n",
       "      <td>2020-02-19T17:13:43-05:00</td>\n",
       "      <td>https://www.sec.gov/ix?doc=/Archives/edgar/dat...</td>\n",
       "      <td>[ Item 1. Business \\n\\nAssurant, Inc. was inco...</td>\n",
       "      <td>[ Item 1A. Risk Factors \\n\\nCertain factors ma...</td>\n",
       "      <td>[ Item 7. Management&amp;#8217;s Discussion and An...</td>\n",
       "      <td>2020</td>\n",
       "    </tr>\n",
       "    <tr>\n",
       "      <th>4</th>\n",
       "      <td>4</td>\n",
       "      <td>AIZ</td>\n",
       "      <td>ASSURANT INC</td>\n",
       "      <td>10-K</td>\n",
       "      <td>Form 10-K - Annual report [Section 13 and 15(d...</td>\n",
       "      <td>2019-02-22T16:48:45-05:00</td>\n",
       "      <td>https://www.sec.gov/ix?doc=/Archives/edgar/dat...</td>\n",
       "      <td>[ Item 1. Business \\n\\nAssurant, Inc. was inco...</td>\n",
       "      <td>[ Item 1A. Risk Factors \\n\\nCertain factors ma...</td>\n",
       "      <td>[ Item 7. Management&amp;#8217;s Discussion and An...</td>\n",
       "      <td>2019</td>\n",
       "    </tr>\n",
       "  </tbody>\n",
       "</table>\n",
       "</div>"
      ],
      "text/plain": [
       "   Unnamed: 0 ticker     companyName formType  \\\n",
       "0           0    AIZ  ASSURANT, INC.     10-K   \n",
       "1           1    AIZ  ASSURANT, INC.     10-K   \n",
       "2           2    AIZ  ASSURANT, INC.     10-K   \n",
       "3           3    AIZ  ASSURANT, INC.     10-K   \n",
       "4           4    AIZ    ASSURANT INC     10-K   \n",
       "\n",
       "                                         description  \\\n",
       "0  Form 10-K - Annual report [Section 13 and 15(d...   \n",
       "1  Form 10-K - Annual report [Section 13 and 15(d...   \n",
       "2  Form 10-K - Annual report [Section 13 and 15(d...   \n",
       "3  Form 10-K - Annual report [Section 13 and 15(d...   \n",
       "4  Form 10-K - Annual report [Section 13 and 15(d...   \n",
       "\n",
       "                     filedAt  \\\n",
       "0  2023-02-17T16:12:13-05:00   \n",
       "1  2022-02-22T16:24:39-05:00   \n",
       "2  2021-02-19T16:44:57-05:00   \n",
       "3  2020-02-19T17:13:43-05:00   \n",
       "4  2019-02-22T16:48:45-05:00   \n",
       "\n",
       "                                 linkToFilingDetails  \\\n",
       "0  https://www.sec.gov/Archives/edgar/data/126723...   \n",
       "1  https://www.sec.gov/Archives/edgar/data/126723...   \n",
       "2  https://www.sec.gov/Archives/edgar/data/126723...   \n",
       "3  https://www.sec.gov/ix?doc=/Archives/edgar/dat...   \n",
       "4  https://www.sec.gov/ix?doc=/Archives/edgar/dat...   \n",
       "\n",
       "                                            Section1  \\\n",
       "0  [ Item 1. Business \\n\\nAssurant, Inc. was inco...   \n",
       "1  [ Item 1. Business \\n\\nAssurant, Inc. was inco...   \n",
       "2  [ Item 1. Business \\n\\nAssurant, Inc. was inco...   \n",
       "3  [ Item 1. Business \\n\\nAssurant, Inc. was inco...   \n",
       "4  [ Item 1. Business \\n\\nAssurant, Inc. was inco...   \n",
       "\n",
       "                                           Section1A  \\\n",
       "0  [ Item 1A. Risk Factors \\n\\nCertain factors ma...   \n",
       "1  [ Item 1A. Risk Factors \\n\\nCertain factors ma...   \n",
       "2  [ Item 1A. Risk Factors \\n\\nCertain factors ma...   \n",
       "3  [ Item 1A. Risk Factors \\n\\nCertain factors ma...   \n",
       "4  [ Item 1A. Risk Factors \\n\\nCertain factors ma...   \n",
       "\n",
       "                                            Section7  year  \n",
       "0  [ Item 7. Management&#8217;s Discussion and An...  2023  \n",
       "1  [ Item 7. Management&#8217;s Discussion and An...  2022  \n",
       "2  [ Item 7. Management&#8217;s Discussion and An...  2021  \n",
       "3  [ Item 7. Management&#8217;s Discussion and An...  2020  \n",
       "4  [ Item 7. Management&#8217;s Discussion and An...  2019  "
      ]
     },
     "execution_count": 117,
     "metadata": {},
     "output_type": "execute_result"
    }
   ],
   "source": [
    "data.head()"
   ]
  },
  {
   "cell_type": "code",
   "execution_count": 124,
   "metadata": {},
   "outputs": [],
   "source": [
    "\n",
    "# LDA analysis for a given year\n",
    "def analyze_year(year, num_topics=5, random_state=100):\n",
    "    year_data = data[data[\"year\"] == year]\n",
    "    all_texts = year_data[\"Section1\"].tolist() + year_data[\"Section1A\"].tolist() + year_data[\"Section7\"].tolist()\n",
    "    all_texts = [\" \".join(section) for section in all_texts]\n",
    "    processed_texts = [preprocess(text) for text in all_texts]\n",
    "#     print(processed_texts)\n",
    "    dictionary = Dictionary(processed_texts)\n",
    "    dictionary.filter_extremes(no_below=10, no_above=0.5, keep_n=100000)\n",
    "    corpus = [dictionary.doc2bow(text) for text in processed_texts]\n",
    "\n",
    "    lda = LdaModel(\n",
    "        corpus,\n",
    "        num_topics=num_topics,\n",
    "        id2word=dictionary,\n",
    "        random_state=random_state,\n",
    "        update_every=1,\n",
    "        passes=10,\n",
    "        alpha=\"auto\",\n",
    "        per_word_topics=True,\n",
    "    )\n",
    "\n",
    "    topics = lda.print_topics(num_words=5)\n",
    "    return topics, processed_texts\n",
    "\n"
   ]
  },
  {
   "cell_type": "code",
   "execution_count": 125,
   "metadata": {},
   "outputs": [],
   "source": [
    "from collections import defaultdict"
   ]
  },
  {
   "cell_type": "code",
   "execution_count": 126,
   "metadata": {},
   "outputs": [],
   "source": [
    "def get_word_frequencies(words, processed_texts):\n",
    "    word_frequencies = defaultdict(int)\n",
    "    for word in words:\n",
    "        for text in processed_texts:\n",
    "            word_frequencies[word] += text.count(word)\n",
    "    return word_frequencies\n",
    "\n",
    "unique_years = sorted(data[\"year\"].unique())\n",
    "all_topics = []\n",
    "all_processed_texts = []"
   ]
  },
  {
   "cell_type": "code",
   "execution_count": 121,
   "metadata": {
    "scrolled": true
   },
   "outputs": [
    {
     "data": {
      "text/html": [
       "<div>\n",
       "<style scoped>\n",
       "    .dataframe tbody tr th:only-of-type {\n",
       "        vertical-align: middle;\n",
       "    }\n",
       "\n",
       "    .dataframe tbody tr th {\n",
       "        vertical-align: top;\n",
       "    }\n",
       "\n",
       "    .dataframe thead th {\n",
       "        text-align: right;\n",
       "    }\n",
       "</style>\n",
       "<table border=\"1\" class=\"dataframe\">\n",
       "  <thead>\n",
       "    <tr style=\"text-align: right;\">\n",
       "      <th></th>\n",
       "      <th>Unnamed: 0</th>\n",
       "      <th>ticker</th>\n",
       "      <th>companyName</th>\n",
       "      <th>formType</th>\n",
       "      <th>description</th>\n",
       "      <th>filedAt</th>\n",
       "      <th>linkToFilingDetails</th>\n",
       "      <th>Section1</th>\n",
       "      <th>Section1A</th>\n",
       "      <th>Section7</th>\n",
       "      <th>year</th>\n",
       "    </tr>\n",
       "  </thead>\n",
       "  <tbody>\n",
       "    <tr>\n",
       "      <th>3</th>\n",
       "      <td>3</td>\n",
       "      <td>AIZ</td>\n",
       "      <td>ASSURANT, INC.</td>\n",
       "      <td>10-K</td>\n",
       "      <td>Form 10-K - Annual report [Section 13 and 15(d...</td>\n",
       "      <td>2020-02-19T17:13:43-05:00</td>\n",
       "      <td>https://www.sec.gov/ix?doc=/Archives/edgar/dat...</td>\n",
       "      <td>[ Item 1. Business \\n\\nAssurant, Inc. was inco...</td>\n",
       "      <td>[ Item 1A. Risk Factors \\n\\nCertain factors ma...</td>\n",
       "      <td>[ Item 7. Management&amp;#8217;s Discussion and An...</td>\n",
       "      <td>2020</td>\n",
       "    </tr>\n",
       "    <tr>\n",
       "      <th>8</th>\n",
       "      <td>8</td>\n",
       "      <td>CSGP</td>\n",
       "      <td>COSTAR GROUP, INC.</td>\n",
       "      <td>10-K</td>\n",
       "      <td>Form 10-K - Annual report [Section 13 and 15(d...</td>\n",
       "      <td>2020-02-26T16:15:47-05:00</td>\n",
       "      <td>https://www.sec.gov/ix?doc=/Archives/edgar/dat...</td>\n",
       "      <td>[ Item 1. \\n\\nBusiness \\n\\n##TABLE_END In this...</td>\n",
       "      <td>[ Item 1A. \\n\\nRisk Factors \\n\\n##TABLE_END \\n...</td>\n",
       "      <td>[ Item 7. \\n\\nManagement&amp;#8217;s Discussion an...</td>\n",
       "      <td>2020</td>\n",
       "    </tr>\n",
       "    <tr>\n",
       "      <th>12</th>\n",
       "      <td>12</td>\n",
       "      <td>J</td>\n",
       "      <td>JACOBS ENGINEERING GROUP INC /DE/</td>\n",
       "      <td>10-K</td>\n",
       "      <td>Form 10-K - Annual report [Section 13 and 15(d...</td>\n",
       "      <td>2020-11-24T07:13:57-05:00</td>\n",
       "      <td>https://www.sec.gov/Archives/edgar/data/52988/...</td>\n",
       "      <td>[ Item 1. BUSINESS \\n\\nAt Jacobs, we&amp;#8217;re ...</td>\n",
       "      <td>[ Item 1 A. RISK FACTORS \\n\\nWe operate in a c...</td>\n",
       "      <td>[ Item 7. MANAGEMENT'S DISCUSSION AND ANALYSIS...</td>\n",
       "      <td>2020</td>\n",
       "    </tr>\n",
       "    <tr>\n",
       "      <th>17</th>\n",
       "      <td>17</td>\n",
       "      <td>KR</td>\n",
       "      <td>KROGER CO</td>\n",
       "      <td>10-K</td>\n",
       "      <td>Form 10-K - Annual report [Section 13 and 15(d...</td>\n",
       "      <td>2020-04-01T09:01:18-04:00</td>\n",
       "      <td>https://www.sec.gov/ix?doc=/Archives/edgar/dat...</td>\n",
       "      <td>[ ITEM 1. \\n\\nBUSINESS. \\n\\n##TABLE_END &amp;#8203...</td>\n",
       "      <td>[ ITEM 1A. \\n\\nRISK FACTORS. \\n\\n##TABLE_END &amp;...</td>\n",
       "      <td>[ ITEM 7. \\n\\nMANAGEMENT&amp;#8217;S DISCUSSION AN...</td>\n",
       "      <td>2020</td>\n",
       "    </tr>\n",
       "    <tr>\n",
       "      <th>22</th>\n",
       "      <td>22</td>\n",
       "      <td>AON</td>\n",
       "      <td>Aon plc</td>\n",
       "      <td>10-K</td>\n",
       "      <td>Form 10-K - Annual report [Section 13 and 15(d...</td>\n",
       "      <td>2020-02-14T16:40:54-05:00</td>\n",
       "      <td>https://www.sec.gov/ix?doc=/Archives/edgar/dat...</td>\n",
       "      <td>[ Item 1. Business \\n\\nOVERVIEW \\n\\nAon plc (w...</td>\n",
       "      <td>[ Item 1A. Risk Factors \\n\\nThe risk factors s...</td>\n",
       "      <td>[ Item 7. Management&amp;#8217;s Discussion and An...</td>\n",
       "      <td>2020</td>\n",
       "    </tr>\n",
       "    <tr>\n",
       "      <th>...</th>\n",
       "      <td>...</td>\n",
       "      <td>...</td>\n",
       "      <td>...</td>\n",
       "      <td>...</td>\n",
       "      <td>...</td>\n",
       "      <td>...</td>\n",
       "      <td>...</td>\n",
       "      <td>...</td>\n",
       "      <td>...</td>\n",
       "      <td>...</td>\n",
       "      <td>...</td>\n",
       "    </tr>\n",
       "    <tr>\n",
       "      <th>2394</th>\n",
       "      <td>2394</td>\n",
       "      <td>UDR</td>\n",
       "      <td>UDR, Inc.</td>\n",
       "      <td>10-K</td>\n",
       "      <td>Form 10-K - Annual report [Section 13 and 15(d...</td>\n",
       "      <td>2020-02-18T16:58:55-05:00</td>\n",
       "      <td>https://www.sec.gov/ix?doc=/Archives/edgar/dat...</td>\n",
       "      <td>[ Item 1. BUSINESS\\n\\nGeneral\\n\\nUDR is a self...</td>\n",
       "      <td>[ Item 1A.\\n\\nRISK FACTORS\\n\\n##TABLE_END Ther...</td>\n",
       "      <td>[ Item 7.\\n\\nMANAGEMENT&amp;#8217;S DISCUSSION AND...</td>\n",
       "      <td>2020</td>\n",
       "    </tr>\n",
       "    <tr>\n",
       "      <th>2399</th>\n",
       "      <td>2399</td>\n",
       "      <td>PWR</td>\n",
       "      <td>QUANTA SERVICES, INC.</td>\n",
       "      <td>10-K</td>\n",
       "      <td>Form 10-K - Annual report [Section 13 and 15(d...</td>\n",
       "      <td>2020-02-28T17:10:05-05:00</td>\n",
       "      <td>https://www.sec.gov/ix?doc=/Archives/edgar/dat...</td>\n",
       "      <td>[ ITEM 1. Business \\n\\nGeneral \\n\\nQuanta Serv...</td>\n",
       "      <td>[ ITEM 1A. Risk Factors \\n\\nOur business is su...</td>\n",
       "      <td>[ ITEM 7. \\n\\nManagement&amp;#8217;s Discussion an...</td>\n",
       "      <td>2020</td>\n",
       "    </tr>\n",
       "    <tr>\n",
       "      <th>2404</th>\n",
       "      <td>2404</td>\n",
       "      <td>EXPD</td>\n",
       "      <td>EXPEDITORS INTERNATIONAL OF WASHINGTON INC</td>\n",
       "      <td>10-K</td>\n",
       "      <td>Form 10-K - Annual report [Section 13 and 15(d...</td>\n",
       "      <td>2020-02-21T15:01:31-05:00</td>\n",
       "      <td>https://www.sec.gov/ix?doc=/Archives/edgar/dat...</td>\n",
       "      <td>[ ITEM 1&amp;#8212;BUSINESS\\n\\nOverview\\n\\nExpedit...</td>\n",
       "      <td>[ ITEM 1A &amp;#8211; RISK FACTORS\\n\\n&amp;#160;\\n\\n##...</td>\n",
       "      <td>[ ITEM 7 &amp;#8212; MANAGEMENT&amp;#8217;S DISCUSSION...</td>\n",
       "      <td>2020</td>\n",
       "    </tr>\n",
       "    <tr>\n",
       "      <th>2414</th>\n",
       "      <td>2414</td>\n",
       "      <td>HWM</td>\n",
       "      <td>Arconic Inc.</td>\n",
       "      <td>10-K</td>\n",
       "      <td>Form 10-K - Annual report [Section 13 and 15(d...</td>\n",
       "      <td>2020-02-26T17:48:56-05:00</td>\n",
       "      <td>https://www.sec.gov/ix?doc=/Archives/edgar/dat...</td>\n",
       "      <td>[ Item 1. Business. \\n\\nGeneral \\n\\nArconic In...</td>\n",
       "      <td>[ Item 1A. Risk Factors. \\n\\nArconic&amp;#8217;s b...</td>\n",
       "      <td>[ Item 7. Management&amp;#8217;s Discussion and An...</td>\n",
       "      <td>2020</td>\n",
       "    </tr>\n",
       "    <tr>\n",
       "      <th>2418</th>\n",
       "      <td>2418</td>\n",
       "      <td>SNPS</td>\n",
       "      <td>SYNOPSYS INC</td>\n",
       "      <td>10-K</td>\n",
       "      <td>Form 10-K - Annual report [Section 13 and 15(d...</td>\n",
       "      <td>2020-12-14T20:00:04-05:00</td>\n",
       "      <td>https://www.sec.gov/Archives/edgar/data/883241...</td>\n",
       "      <td>[ Item 1. Business \\n\\n##TABLE_END\\n\\nCompany ...</td>\n",
       "      <td>[ Item 1A. Risk Factors \\n\\n##TABLE_END\\n\\nA d...</td>\n",
       "      <td>[ Item 7. Management&amp;#8217;s Discussion and An...</td>\n",
       "      <td>2020</td>\n",
       "    </tr>\n",
       "  </tbody>\n",
       "</table>\n",
       "<p>482 rows × 11 columns</p>\n",
       "</div>"
      ],
      "text/plain": [
       "      Unnamed: 0 ticker                                 companyName formType  \\\n",
       "3              3    AIZ                              ASSURANT, INC.     10-K   \n",
       "8              8   CSGP                          COSTAR GROUP, INC.     10-K   \n",
       "12            12      J           JACOBS ENGINEERING GROUP INC /DE/     10-K   \n",
       "17            17     KR                                   KROGER CO     10-K   \n",
       "22            22    AON                                     Aon plc     10-K   \n",
       "...          ...    ...                                         ...      ...   \n",
       "2394        2394    UDR                                   UDR, Inc.     10-K   \n",
       "2399        2399    PWR                       QUANTA SERVICES, INC.     10-K   \n",
       "2404        2404   EXPD  EXPEDITORS INTERNATIONAL OF WASHINGTON INC     10-K   \n",
       "2414        2414    HWM                                Arconic Inc.     10-K   \n",
       "2418        2418   SNPS                                SYNOPSYS INC     10-K   \n",
       "\n",
       "                                            description  \\\n",
       "3     Form 10-K - Annual report [Section 13 and 15(d...   \n",
       "8     Form 10-K - Annual report [Section 13 and 15(d...   \n",
       "12    Form 10-K - Annual report [Section 13 and 15(d...   \n",
       "17    Form 10-K - Annual report [Section 13 and 15(d...   \n",
       "22    Form 10-K - Annual report [Section 13 and 15(d...   \n",
       "...                                                 ...   \n",
       "2394  Form 10-K - Annual report [Section 13 and 15(d...   \n",
       "2399  Form 10-K - Annual report [Section 13 and 15(d...   \n",
       "2404  Form 10-K - Annual report [Section 13 and 15(d...   \n",
       "2414  Form 10-K - Annual report [Section 13 and 15(d...   \n",
       "2418  Form 10-K - Annual report [Section 13 and 15(d...   \n",
       "\n",
       "                        filedAt  \\\n",
       "3     2020-02-19T17:13:43-05:00   \n",
       "8     2020-02-26T16:15:47-05:00   \n",
       "12    2020-11-24T07:13:57-05:00   \n",
       "17    2020-04-01T09:01:18-04:00   \n",
       "22    2020-02-14T16:40:54-05:00   \n",
       "...                         ...   \n",
       "2394  2020-02-18T16:58:55-05:00   \n",
       "2399  2020-02-28T17:10:05-05:00   \n",
       "2404  2020-02-21T15:01:31-05:00   \n",
       "2414  2020-02-26T17:48:56-05:00   \n",
       "2418  2020-12-14T20:00:04-05:00   \n",
       "\n",
       "                                    linkToFilingDetails  \\\n",
       "3     https://www.sec.gov/ix?doc=/Archives/edgar/dat...   \n",
       "8     https://www.sec.gov/ix?doc=/Archives/edgar/dat...   \n",
       "12    https://www.sec.gov/Archives/edgar/data/52988/...   \n",
       "17    https://www.sec.gov/ix?doc=/Archives/edgar/dat...   \n",
       "22    https://www.sec.gov/ix?doc=/Archives/edgar/dat...   \n",
       "...                                                 ...   \n",
       "2394  https://www.sec.gov/ix?doc=/Archives/edgar/dat...   \n",
       "2399  https://www.sec.gov/ix?doc=/Archives/edgar/dat...   \n",
       "2404  https://www.sec.gov/ix?doc=/Archives/edgar/dat...   \n",
       "2414  https://www.sec.gov/ix?doc=/Archives/edgar/dat...   \n",
       "2418  https://www.sec.gov/Archives/edgar/data/883241...   \n",
       "\n",
       "                                               Section1  \\\n",
       "3     [ Item 1. Business \\n\\nAssurant, Inc. was inco...   \n",
       "8     [ Item 1. \\n\\nBusiness \\n\\n##TABLE_END In this...   \n",
       "12    [ Item 1. BUSINESS \\n\\nAt Jacobs, we&#8217;re ...   \n",
       "17    [ ITEM 1. \\n\\nBUSINESS. \\n\\n##TABLE_END &#8203...   \n",
       "22    [ Item 1. Business \\n\\nOVERVIEW \\n\\nAon plc (w...   \n",
       "...                                                 ...   \n",
       "2394  [ Item 1. BUSINESS\\n\\nGeneral\\n\\nUDR is a self...   \n",
       "2399  [ ITEM 1. Business \\n\\nGeneral \\n\\nQuanta Serv...   \n",
       "2404  [ ITEM 1&#8212;BUSINESS\\n\\nOverview\\n\\nExpedit...   \n",
       "2414  [ Item 1. Business. \\n\\nGeneral \\n\\nArconic In...   \n",
       "2418  [ Item 1. Business \\n\\n##TABLE_END\\n\\nCompany ...   \n",
       "\n",
       "                                              Section1A  \\\n",
       "3     [ Item 1A. Risk Factors \\n\\nCertain factors ma...   \n",
       "8     [ Item 1A. \\n\\nRisk Factors \\n\\n##TABLE_END \\n...   \n",
       "12    [ Item 1 A. RISK FACTORS \\n\\nWe operate in a c...   \n",
       "17    [ ITEM 1A. \\n\\nRISK FACTORS. \\n\\n##TABLE_END &...   \n",
       "22    [ Item 1A. Risk Factors \\n\\nThe risk factors s...   \n",
       "...                                                 ...   \n",
       "2394  [ Item 1A.\\n\\nRISK FACTORS\\n\\n##TABLE_END Ther...   \n",
       "2399  [ ITEM 1A. Risk Factors \\n\\nOur business is su...   \n",
       "2404  [ ITEM 1A &#8211; RISK FACTORS\\n\\n&#160;\\n\\n##...   \n",
       "2414  [ Item 1A. Risk Factors. \\n\\nArconic&#8217;s b...   \n",
       "2418  [ Item 1A. Risk Factors \\n\\n##TABLE_END\\n\\nA d...   \n",
       "\n",
       "                                               Section7  year  \n",
       "3     [ Item 7. Management&#8217;s Discussion and An...  2020  \n",
       "8     [ Item 7. \\n\\nManagement&#8217;s Discussion an...  2020  \n",
       "12    [ Item 7. MANAGEMENT'S DISCUSSION AND ANALYSIS...  2020  \n",
       "17    [ ITEM 7. \\n\\nMANAGEMENT&#8217;S DISCUSSION AN...  2020  \n",
       "22    [ Item 7. Management&#8217;s Discussion and An...  2020  \n",
       "...                                                 ...   ...  \n",
       "2394  [ Item 7.\\n\\nMANAGEMENT&#8217;S DISCUSSION AND...  2020  \n",
       "2399  [ ITEM 7. \\n\\nManagement&#8217;s Discussion an...  2020  \n",
       "2404  [ ITEM 7 &#8212; MANAGEMENT&#8217;S DISCUSSION...  2020  \n",
       "2414  [ Item 7. Management&#8217;s Discussion and An...  2020  \n",
       "2418  [ Item 7. Management&#8217;s Discussion and An...  2020  \n",
       "\n",
       "[482 rows x 11 columns]"
      ]
     },
     "execution_count": 121,
     "metadata": {},
     "output_type": "execute_result"
    }
   ],
   "source": [
    "data[data['year'] == 2020]"
   ]
  },
  {
   "cell_type": "code",
   "execution_count": 142,
   "metadata": {},
   "outputs": [
    {
     "data": {
      "text/plain": [
       "'https://www.sec.gov/Archives/edgar/data/1267238/000126723823000007/aiz-20221231.htm'"
      ]
     },
     "execution_count": 142,
     "metadata": {},
     "output_type": "execute_result"
    }
   ],
   "source": [
    "data['linkToFilingDetails'][0]"
   ]
  },
  {
   "cell_type": "code",
   "execution_count": 127,
   "metadata": {},
   "outputs": [],
   "source": [
    "# Group documents by year and analyze each year\n",
    "unique_years = sorted(data['year'].unique())\n",
    "\n",
    "for year in unique_years:\n",
    "    topics, processed_texts = analyze_year(year, num_topics=5, random_state=100)\n",
    "    all_topics.extend(topics)\n",
    "    all_processed_texts.extend(processed_texts)"
   ]
  },
  {
   "cell_type": "code",
   "execution_count": 129,
   "metadata": {},
   "outputs": [],
   "source": [
    "# Extract topic words\n",
    "topic_words = set()\n",
    "for topic in all_topics:\n",
    "    words = topic[1].split(\" + \")\n",
    "    for word in words:\n",
    "        topic_words.add(word.split(\"*\")[1][1:-1])\n",
    "\n",
    "# Get word frequencies over time\n",
    "word_frequencies = get_word_frequencies(topic_words, all_processed_texts)"
   ]
  },
  {
   "cell_type": "code",
   "execution_count": 130,
   "metadata": {},
   "outputs": [],
   "source": [
    "# Evaluate emerging themes\n",
    "emerging_themes = []\n",
    "ratios = [(word, word_frequencies[word] / len(all_processed_texts)) for word in topic_words]\n",
    "ratios.sort(key=lambda x: x[1], reverse=True)\n"
   ]
  },
  {
   "cell_type": "code",
   "execution_count": 131,
   "metadata": {},
   "outputs": [
    {
     "data": {
      "text/plain": [
       "[('fiscal', 9.715752461322081),\n",
       " ('gas', 8.048241912798876),\n",
       " ('loan', 7.660056258790436),\n",
       " ('client', 5.764838255977496),\n",
       " ('table', 5.106469760900141),\n",
       " ('partially', 5.09535864978903),\n",
       " ('manufacturing', 5.056118143459916),\n",
       " ('adjusted', 5.008860759493671),\n",
       " ('care', 4.1884669479606185),\n",
       " ('bank', 4.075668073136428)]"
      ]
     },
     "execution_count": 131,
     "metadata": {},
     "output_type": "execute_result"
    }
   ],
   "source": [
    "ratios[:10]"
   ]
  },
  {
   "cell_type": "code",
   "execution_count": 132,
   "metadata": {},
   "outputs": [
    {
     "name": "stdout",
     "output_type": "stream",
     "text": [
      "Emerging themes: ['fiscal', 'gas', 'loan', 'client', 'table', 'partially', 'manufacturing', 'adjusted', 'care', 'bank']\n"
     ]
    }
   ],
   "source": [
    "\n",
    "for word, ratio in ratios:\n",
    "    if ratio > 4:  # Adjust threshold according to the analysis needs\n",
    "        emerging_themes.append(word)\n",
    "\n",
    "print(\"Emerging themes:\", emerging_themes)"
   ]
  },
  {
   "cell_type": "markdown",
   "metadata": {},
   "source": [
    "### QUESTION 3:  **What are the declining themes?*"
   ]
  },
  {
   "cell_type": "code",
   "execution_count": 133,
   "metadata": {},
   "outputs": [
    {
     "data": {
      "text/plain": [
       "[('drug', 2.4773558368495077),\n",
       " ('emission', 2.4362869198312236),\n",
       " ('harm', 2.3756680731364277),\n",
       " ('privacy', 2.2677918424753867),\n",
       " ('breach', 2.1912798874824193),\n",
       " ('reinsurance', 2.0924050632911393),\n",
       " ('mortgage', 2.080872011251758),\n",
       " ('fail', 1.9756680731364276),\n",
       " ('fda', 1.8825597749648382),\n",
       " ('tenant', 1.7047819971870606)]"
      ]
     },
     "execution_count": 133,
     "metadata": {},
     "output_type": "execute_result"
    }
   ],
   "source": [
    "ratios[-10:]"
   ]
  },
  {
   "cell_type": "code",
   "execution_count": 134,
   "metadata": {},
   "outputs": [
    {
     "name": "stdout",
     "output_type": "stream",
     "text": [
      "Declining themes: ['drug', 'emission', 'harm', 'privacy', 'breach', 'reinsurance', 'mortgage', 'fail', 'fda', 'tenant']\n"
     ]
    }
   ],
   "source": [
    "\n",
    "declining_themes = []\n",
    "\n",
    "for word, ratio in ratios:\n",
    "    if ratio < 2.5:  # Adjust threshold according to the analysis needs\n",
    "        declining_themes.append(word)\n",
    "\n",
    "print(\"Declining themes:\", declining_themes)"
   ]
  },
  {
   "cell_type": "markdown",
   "metadata": {},
   "source": [
    "### question 4  **What is the sentiment over those themes?"
   ]
  },
  {
   "cell_type": "code",
   "execution_count": 135,
   "metadata": {},
   "outputs": [],
   "source": [
    "from textblob import TextBlob"
   ]
  },
  {
   "cell_type": "code",
   "execution_count": 136,
   "metadata": {},
   "outputs": [],
   "source": [
    "# Preprocess the text to obtain the tokens for each section\n",
    "data['tokens'] = data['Section1'] + data['Section1A'] + data['Section7']\n",
    "data['tokens'] = data['tokens'].apply(lambda x: preprocess(x[0]))\n"
   ]
  },
  {
   "cell_type": "code",
   "execution_count": 137,
   "metadata": {},
   "outputs": [],
   "source": [
    "\n",
    "# Check if a section contains any of the declining themes\n",
    "data['contains_declining_theme'] = data['tokens'].apply(lambda x: any(theme in x for theme in declining_themes))\n"
   ]
  },
  {
   "cell_type": "code",
   "execution_count": 138,
   "metadata": {},
   "outputs": [],
   "source": [
    "\n",
    "# Compute sentiment polarity and subjectivity for each section using TextBlob\n",
    "data['sentiment_polarity'] = data['tokens'].apply(lambda x: TextBlob(' '.join(x)).sentiment.polarity)\n",
    "data['sentiment_subjectivity'] = data['tokens'].apply(lambda x: TextBlob(' '.join(x)).sentiment.subjectivity)"
   ]
  },
  {
   "cell_type": "code",
   "execution_count": 139,
   "metadata": {},
   "outputs": [],
   "source": [
    "# Filter the sections that contain declining themes\n",
    "declining_theme_sections = data[data['contains_declining_theme']]"
   ]
  },
  {
   "cell_type": "code",
   "execution_count": 140,
   "metadata": {},
   "outputs": [],
   "source": [
    "\n",
    "# Calculate average sentiment polarity and subjectivity\n",
    "average_sentiment_polarity = declining_theme_sections['sentiment_polarity'].mean()\n",
    "average_sentiment_subjectivity = declining_theme_sections['sentiment_subjectivity'].mean()"
   ]
  },
  {
   "cell_type": "code",
   "execution_count": 141,
   "metadata": {},
   "outputs": [
    {
     "name": "stdout",
     "output_type": "stream",
     "text": [
      "Average sentiment polarity for sections containing declining themes: 0.07\n",
      "Average sentiment subjectivity for sections containing declining themes: 0.36\n"
     ]
    }
   ],
   "source": [
    "print(f'Average sentiment polarity for sections containing declining themes: {average_sentiment_polarity:.2f}')\n",
    "print(f'Average sentiment subjectivity for sections containing declining themes: {average_sentiment_subjectivity:.2f}')"
   ]
  },
  {
   "cell_type": "code",
   "execution_count": null,
   "metadata": {},
   "outputs": [],
   "source": []
  }
 ],
 "metadata": {
  "kernelspec": {
   "display_name": "Python 3",
   "language": "python",
   "name": "python3"
  },
  "language_info": {
   "codemirror_mode": {
    "name": "ipython",
    "version": 3
   },
   "file_extension": ".py",
   "mimetype": "text/x-python",
   "name": "python",
   "nbconvert_exporter": "python",
   "pygments_lexer": "ipython3",
   "version": "3.8.5"
  }
 },
 "nbformat": 4,
 "nbformat_minor": 4
}
